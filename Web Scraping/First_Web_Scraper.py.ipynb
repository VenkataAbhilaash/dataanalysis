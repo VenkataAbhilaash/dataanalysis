{
 "cells": [
  {
   "cell_type": "code",
   "execution_count": 12,
   "id": "0ced4335",
   "metadata": {},
   "outputs": [],
   "source": [
    "# Loading the Library of Beautiful Soup\n",
    "from bs4 import BeautifulSoup"
   ]
  },
  {
   "cell_type": "code",
   "execution_count": 13,
   "id": "00f5538b",
   "metadata": {},
   "outputs": [],
   "source": [
    "#Loading the Library of requests\n",
    "import requests\n",
    "import pandas as pd\n",
    "import openpyxl"
   ]
  },
  {
   "cell_type": "code",
   "execution_count": 14,
   "id": "5c49a8eb",
   "metadata": {
    "scrolled": false
   },
   "outputs": [
    {
     "data": {
      "text/plain": [
       "Index(['Rank', 'Title of Movie', 'Year of Release', 'IMDB Rating'], dtype='object')"
      ]
     },
     "execution_count": 14,
     "metadata": {},
     "output_type": "execute_result"
    }
   ],
   "source": [
    "try:\n",
    "    ranks=[]\n",
    "    names=[]\n",
    "    years=[]\n",
    "    ratings=[]\n",
    "    source=requests.get('https://www.imdb.com/chart/toptv/?ref_=nv_mp_tv250')\n",
    "    source.raise_for_status()\n",
    "    soup=BeautifulSoup(source.text,'lxml')\n",
    "    serials=soup.find('tbody',class_='lister-list').find_all('tr')\n",
    "    for series in serials:\n",
    "        rank=series.find('td',class_='titleColumn').get_text(strip=True).split('.')[0]\n",
    "        name=series.find('td',class_='titleColumn').a.text\n",
    "        year_of_release=series.find('td',class_='titleColumn').span.text.strip('()')\n",
    "        rating=series.find('td',class_='ratingColumn imdbRating').strong.text\n",
    "        ranks.append(rank)\n",
    "        names.append(name)\n",
    "        years.append(year_of_release)\n",
    "        ratings.append(rating)\n",
    "        \n",
    "except Exception as e:\n",
    "    print(e)\n",
    "\n",
    "df=pd.DataFrame(ranks,columns=['Rank'])\n",
    "df['Title of Movie']=names\n",
    "df['Year of Release']=years\n",
    "df['IMDB Rating']=ratings\n",
    "\n",
    "df.to_csv('IMDB_Scraped_Data_for_Top_Rated_Web_Series_1.csv')\n",
    "df.head(10)\n",
    "df.set_index('Rank')\n",
    "df.columns\n"
   ]
  },
  {
   "cell_type": "code",
   "execution_count": 15,
   "id": "c2d5cc79",
   "metadata": {},
   "outputs": [
    {
     "name": "stderr",
     "output_type": "stream",
     "text": [
      "C:\\Users\\abhii\\.conda\\envs\\abhi\\lib\\site-packages\\openpyxl\\workbook\\child.py:99: UserWarning: Title is more than 31 characters. Some applications may not be able to read the file\n",
      "  warnings.warn(\"Title is more than 31 characters. Some applications may not be able to read the file\")\n"
     ]
    }
   ],
   "source": [
    "excel=openpyxl.Workbook()\n",
    "sheet=excel.active\n",
    "sheet.title='IMDB_Scraped_Data_for_Top_Rated_Web_Series'\n",
    "sheet.append(['Rank', 'Title of Movie', 'Year of Release', 'IMDB Rating'])\n",
    "excel.save('IMDB_Web_Series.xlsx')"
   ]
  },
  {
   "cell_type": "code",
   "execution_count": null,
   "id": "8235167c",
   "metadata": {},
   "outputs": [],
   "source": []
  }
 ],
 "metadata": {
  "kernelspec": {
   "display_name": "Python 3 (ipykernel)",
   "language": "python",
   "name": "python3"
  },
  "language_info": {
   "codemirror_mode": {
    "name": "ipython",
    "version": 3
   },
   "file_extension": ".py",
   "mimetype": "text/x-python",
   "name": "python",
   "nbconvert_exporter": "python",
   "pygments_lexer": "ipython3",
   "version": "3.9.16"
  }
 },
 "nbformat": 4,
 "nbformat_minor": 5
}
